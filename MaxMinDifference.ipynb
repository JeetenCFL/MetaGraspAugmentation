{
 "cells": [
  {
   "cell_type": "code",
   "execution_count": 1,
   "id": "9dca0d31",
   "metadata": {},
   "outputs": [],
   "source": [
    "import cv2\n",
    "import json\n",
    "import matplotlib.pyplot as plt\n",
    "import matplotlib.image as mat_img\n",
    "import numpy as np\n",
    "import pandas as pd\n",
    "import os\n",
    "import csv\n",
    "import pandas as pd\n",
    "import random\n",
    "import albumentations as A\n",
    "from numpyencoder import NumpyEncoder\n",
    "from skimage.color import label2rgb\n",
    "from pandas.io.json import json_normalize\n",
    "from detectron2.structures import polygons_to_bitmask\n",
    "%matplotlib inline"
   ]
  },
  {
   "cell_type": "code",
   "execution_count": 19,
   "id": "b443dd28",
   "metadata": {},
   "outputs": [],
   "source": [
    "imagePath = '/home/jeeten/MetaGrasp/MetaGraspData/test/depth_images/11960_depth.png'\n",
    "image = cv2.imread(imagePath, cv2.IMREAD_UNCHANGED)\n",
    "smallest = np.amin(image)\n",
    "biggest = np.amax(image)"
   ]
  },
  {
   "cell_type": "code",
   "execution_count": 20,
   "id": "1cee04c5",
   "metadata": {},
   "outputs": [
    {
     "data": {
      "text/plain": [
       "255"
      ]
     },
     "execution_count": 20,
     "metadata": {},
     "output_type": "execute_result"
    }
   ],
   "source": [
    "diff = biggest - smallest\n",
    "diff"
   ]
  },
  {
   "cell_type": "code",
   "execution_count": 21,
   "id": "09c61a8f",
   "metadata": {},
   "outputs": [
    {
     "data": {
      "text/plain": [
       "0"
      ]
     },
     "execution_count": 21,
     "metadata": {},
     "output_type": "execute_result"
    }
   ],
   "source": [
    "smallest"
   ]
  },
  {
   "cell_type": "code",
   "execution_count": 22,
   "id": "1b972745",
   "metadata": {},
   "outputs": [
    {
     "data": {
      "text/plain": [
       "255"
      ]
     },
     "execution_count": 22,
     "metadata": {},
     "output_type": "execute_result"
    }
   ],
   "source": [
    "biggest"
   ]
  },
  {
   "cell_type": "code",
   "execution_count": null,
   "id": "3b06ac1e",
   "metadata": {},
   "outputs": [],
   "source": []
  }
 ],
 "metadata": {
  "kernelspec": {
   "display_name": "Python 3 (ipykernel)",
   "language": "python",
   "name": "python3"
  },
  "language_info": {
   "codemirror_mode": {
    "name": "ipython",
    "version": 3
   },
   "file_extension": ".py",
   "mimetype": "text/x-python",
   "name": "python",
   "nbconvert_exporter": "python",
   "pygments_lexer": "ipython3",
   "version": "3.7.13"
  }
 },
 "nbformat": 4,
 "nbformat_minor": 5
}
