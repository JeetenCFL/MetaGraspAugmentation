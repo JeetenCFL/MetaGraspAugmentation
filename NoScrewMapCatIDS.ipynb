{
 "cells": [
  {
   "cell_type": "code",
   "execution_count": 1,
   "id": "7453bdc1",
   "metadata": {},
   "outputs": [],
   "source": [
    "import json\n",
    "import numpy as np\n",
    "import pandas as pd\n",
    "import os\n",
    "import csv\n",
    "from numpyencoder import NumpyEncoder"
   ]
  },
  {
   "cell_type": "code",
   "execution_count": 2,
   "id": "06de253d",
   "metadata": {},
   "outputs": [
    {
     "name": "stdout",
     "output_type": "stream",
     "text": [
      "loading annotations into memory...\n",
      "Done (t=0.34s)\n",
      "creating index...\n",
      "index created!\n"
     ]
    }
   ],
   "source": [
    "# could be run when done to test \n",
    "from pycocotools.coco import COCO\n",
    "import skimage.io as io\n",
    "import pylab\n",
    "\n",
    "dataDir='/home/jeeten/MetaGrasp/MetaGraspData/'\n",
    "dataType=''\n",
    "annFile='/home/jeeten/MetaGrasp/MetaGraspData/val.json'.format(dataDir,dataType)\n",
    "\n",
    "coco = COCO(annFile)"
   ]
  },
  {
   "cell_type": "code",
   "execution_count": 23,
   "id": "e8fe2138",
   "metadata": {},
   "outputs": [
    {
     "data": {
      "text/plain": [
       "43626855"
      ]
     },
     "execution_count": 23,
     "metadata": {},
     "output_type": "execute_result"
    }
   ],
   "source": [
    "f = open('/home/jeeten/MetaGrasp/MetaGraspData/val.json')\n",
    "anno = json.load(f)\n",
    "f.close()\n",
    "\n",
    "new_anno = {\n",
    "    \"annotations\": [],\n",
    "    \"categories\": [\n",
    "        {\n",
    "          \"id\": 1,\n",
    "          \"name\": \"Cheezit \",\n",
    "          \"supercategory\": \"Cheezit \"\n",
    "        },\n",
    "        {\n",
    "          \"id\": 2,\n",
    "          \"name\": \"Banana \",\n",
    "          \"supercategory\": \"Banana \"\n",
    "        },\n",
    "        {\n",
    "          \"id\": 3,\n",
    "          \"name\": \"sugarbox \",\n",
    "          \"supercategory\": \"sugarbox \"\n",
    "        },\n",
    "        {\n",
    "          \"id\": 4,\n",
    "          \"name\": \"unlabeled1 \",\n",
    "          \"supercategory\": \"unlabeled1 \"\n",
    "        },\n",
    "        {\n",
    "          \"id\": 5,\n",
    "          \"name\": \"unlabeled6 \",\n",
    "          \"supercategory\": \"unlabeled6 \"\n",
    "        }\n",
    "    ],\n",
    "    \"images\": [],\n",
    "    \"info\": {},\n",
    "    \"licenses\": []\n",
    "}\n",
    "\n",
    "for things, values in anno.items():\n",
    "    if things == \"categories\":\n",
    "        continue;\n",
    "    elif things != \"annotations\":\n",
    "        new_anno[things] = values\n",
    "    else:\n",
    "        for dic in anno[things]:\n",
    "            if dic[\"category_id\"] != 3:\n",
    "                new_anno[things].append(dic)\n",
    "\n",
    "catIDmap = {\n",
    "    1: 1,\n",
    "    2: 2,\n",
    "    4: 3,\n",
    "    5: 4,\n",
    "    6: 5\n",
    "}\n",
    "newcat = lambda x: catIDmap[x]\n",
    "\n",
    "for i in range(len(new_anno[\"annotations\"])):\n",
    "    new_anno[\"annotations\"][i][\"category_id\"] = newcat(new_anno[\"annotations\"][i][\"category_id\"])\n",
    "\n",
    "open(\"noScrewVal.json\", \"w\").write(\n",
    "    json.dumps(new_anno, sort_keys=True, indent=2)\n",
    ")"
   ]
  },
  {
   "cell_type": "code",
   "execution_count": null,
   "id": "4e05e16b",
   "metadata": {},
   "outputs": [],
   "source": []
  }
 ],
 "metadata": {
  "kernelspec": {
   "display_name": "Python 3 (ipykernel)",
   "language": "python",
   "name": "python3"
  },
  "language_info": {
   "codemirror_mode": {
    "name": "ipython",
    "version": 3
   },
   "file_extension": ".py",
   "mimetype": "text/x-python",
   "name": "python",
   "nbconvert_exporter": "python",
   "pygments_lexer": "ipython3",
   "version": "3.7.13"
  }
 },
 "nbformat": 4,
 "nbformat_minor": 5
}
