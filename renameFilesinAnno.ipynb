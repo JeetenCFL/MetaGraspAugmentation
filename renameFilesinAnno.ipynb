{
 "cells": [
  {
   "cell_type": "code",
   "execution_count": 1,
   "metadata": {},
   "outputs": [],
   "source": [
    "import json\n",
    "from numpyencoder import NumpyEncoder"
   ]
  },
  {
   "cell_type": "code",
   "execution_count": 2,
   "metadata": {},
   "outputs": [],
   "source": [
    "f = open('train.json', 'r')\n",
    "anno = json.load(f)\n",
    "f.close()\n",
    "\n",
    "for i in range(len(anno['images'])):\n",
    "    anno['images'][i]['file_name'] = 'train/images/'+str(anno['images'][i]['id'])+'_rgb.png'\n",
    "\n",
    "f = open('MetaGraspV2/trainV2.json', 'w')\n",
    "json.dump(anno, f, indent=2, cls=NumpyEncoder)\n",
    "f.close()"
   ]
  },
  {
   "cell_type": "code",
   "execution_count": 3,
   "metadata": {},
   "outputs": [],
   "source": [
    "f = open('test.json', 'r')\n",
    "anno = json.load(f)\n",
    "f.close()\n",
    "\n",
    "for i in range(len(anno['images'])):\n",
    "    anno['images'][i]['file_name'] = 'test/images/'+str(anno['images'][i]['id'])+'_rgb.png'\n",
    "\n",
    "f = open('MetaGraspV2/testV2.json', 'w')\n",
    "json.dump(anno, f, indent=2, cls=NumpyEncoder)\n",
    "f.close()"
   ]
  },
  {
   "cell_type": "code",
   "execution_count": 4,
   "metadata": {},
   "outputs": [],
   "source": [
    "f = open('val.json', 'r')\n",
    "anno = json.load(f)\n",
    "f.close()\n",
    "\n",
    "for i in range(len(anno['images'])):\n",
    "    anno['images'][i]['file_name'] = 'val/images/'+str(anno['images'][i]['id'])+'_rgb.png'\n",
    "\n",
    "f = open('MetaGraspV2/valV2.json', 'w')\n",
    "json.dump(anno, f, indent=2, cls=NumpyEncoder)\n",
    "f.close()"
   ]
  }
 ],
 "metadata": {
  "kernelspec": {
   "display_name": "Python 3.7.13 ('augimg')",
   "language": "python",
   "name": "python3"
  },
  "language_info": {
   "codemirror_mode": {
    "name": "ipython",
    "version": 3
   },
   "file_extension": ".py",
   "mimetype": "text/x-python",
   "name": "python",
   "nbconvert_exporter": "python",
   "pygments_lexer": "ipython3",
   "version": "3.7.13"
  },
  "orig_nbformat": 4,
  "vscode": {
   "interpreter": {
    "hash": "ee6b1cb332ba3a3f90e152ac6a941bc11860c5b0a65b38ebf8371406b8be5cb1"
   }
  }
 },
 "nbformat": 4,
 "nbformat_minor": 2
}
